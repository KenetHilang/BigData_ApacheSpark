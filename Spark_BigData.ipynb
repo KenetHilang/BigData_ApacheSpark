{
  "nbformat": 4,
  "nbformat_minor": 0,
  "metadata": {
    "colab": {
      "provenance": [],
      "authorship_tag": "ABX9TyMw5a+yX/Yy9b+tMiVp8hS3"
    },
    "kernelspec": {
      "name": "python3",
      "display_name": "Python 3"
    },
    "language_info": {
      "name": "python"
    }
  },
  "cells": [
    {
      "cell_type": "code",
      "execution_count": 50,
      "metadata": {
        "colab": {
          "base_uri": "https://localhost:8080/"
        },
        "id": "a-aXsorkzymT",
        "outputId": "1d821b73-caa5-4b86-e05c-b363474a05fa"
      },
      "outputs": [
        {
          "output_type": "stream",
          "name": "stdout",
          "text": [
            "Path to dataset files: /kaggle/input/cryptocurrencypricehistory\n"
          ]
        }
      ],
      "source": [
        "import kagglehub\n",
        "import os\n",
        "from pyspark.sql import SparkSession\n",
        "\n",
        "path = kagglehub.dataset_download(\"sudalairajkumar/cryptocurrencypricehistory\")\n",
        "\n",
        "print(\"Path to dataset files:\", path)"
      ]
    },
    {
      "cell_type": "code",
      "source": [
        "spark = SparkSession.builder.getOrCreate()"
      ],
      "metadata": {
        "id": "4GSSfEv33T77"
      },
      "execution_count": 51,
      "outputs": []
    },
    {
      "cell_type": "code",
      "source": [
        "spark"
      ],
      "metadata": {
        "id": "66vByuAv34Q1",
        "outputId": "74f639e5-a022-42c6-b6a0-be57a93df450",
        "colab": {
          "base_uri": "https://localhost:8080/",
          "height": 219
        }
      },
      "execution_count": 52,
      "outputs": [
        {
          "output_type": "execute_result",
          "data": {
            "text/plain": [
              "<pyspark.sql.session.SparkSession at 0x7fae80a3fed0>"
            ],
            "text/html": [
              "\n",
              "            <div>\n",
              "                <p><b>SparkSession - in-memory</b></p>\n",
              "                \n",
              "        <div>\n",
              "            <p><b>SparkContext</b></p>\n",
              "\n",
              "            <p><a href=\"http://736f9e006bbe:4040\">Spark UI</a></p>\n",
              "\n",
              "            <dl>\n",
              "              <dt>Version</dt>\n",
              "                <dd><code>v3.5.5</code></dd>\n",
              "              <dt>Master</dt>\n",
              "                <dd><code>local[*]</code></dd>\n",
              "              <dt>AppName</dt>\n",
              "                <dd><code>pyspark-shell</code></dd>\n",
              "            </dl>\n",
              "        </div>\n",
              "        \n",
              "            </div>\n",
              "        "
            ]
          },
          "metadata": {},
          "execution_count": 52
        }
      ]
    },
    {
      "cell_type": "code",
      "source": [
        "for file in os.listdir(path):\n",
        "    print(file)"
      ],
      "metadata": {
        "colab": {
          "base_uri": "https://localhost:8080/"
        },
        "id": "as6hLiWr89b4",
        "outputId": "87982b17-f617-4fc1-8152-25217792d539"
      },
      "execution_count": 53,
      "outputs": [
        {
          "output_type": "stream",
          "name": "stdout",
          "text": [
            "coin_ChainLink.csv\n",
            "coin_Cardano.csv\n",
            "coin_Solana.csv\n",
            "coin_Dogecoin.csv\n",
            "coin_Polkadot.csv\n",
            "coin_NEM.csv\n",
            "coin_XRP.csv\n",
            "coin_Ethereum.csv\n",
            "coin_Aave.csv\n",
            "coin_Bitcoin.csv\n",
            "coin_Cosmos.csv\n",
            "coin_Litecoin.csv\n",
            "coin_Uniswap.csv\n",
            "coin_EOS.csv\n",
            "coin_BinanceCoin.csv\n",
            "coin_CryptocomCoin.csv\n",
            "coin_USDCoin.csv\n",
            "coin_Monero.csv\n",
            "coin_Tron.csv\n",
            "coin_WrappedBitcoin.csv\n",
            "coin_Tether.csv\n",
            "coin_Iota.csv\n",
            "coin_Stellar.csv\n"
          ]
        }
      ]
    },
    {
      "cell_type": "code",
      "source": [
        "Coins = [\"BTC\", \"ETH\", \"DOGE\", \"USD\", \"Stellar\"]\n",
        "\n",
        "Read_BTC = spark.read.csv(f\"{path}/coin_Bitcoin.csv\", header=True, inferSchema=True)\n",
        "Read_ETH = spark.read.csv(f\"{path}/coin_Ethereum.csv\", header=True, inferSchema=True)\n",
        "Read_DOGE = spark.read.csv(f\"{path}/coin_Dogecoin.csv\", header=True, inferSchema=True)\n",
        "Read_USD = spark.read.csv(f\"{path}/coin_USDCoin.csv\", header=True, inferSchema=True)\n",
        "Read_Stellar = spark.read.csv(f\"{path}/coin_Stellar.csv\", header=True, inferSchema=True)\n",
        "\n",
        "print(\"Data has been successfully read\")"
      ],
      "metadata": {
        "colab": {
          "base_uri": "https://localhost:8080/"
        },
        "id": "3p7RLjQv5PfC",
        "outputId": "b9aaf061-fb0d-4732-f69d-f92b1585afaf"
      },
      "execution_count": 54,
      "outputs": [
        {
          "output_type": "stream",
          "name": "stdout",
          "text": [
            "Data has been successfully read\n"
          ]
        }
      ]
    },
    {
      "cell_type": "code",
      "source": [
        "print(\"Bitcoin Data\")\n",
        "Read_BTC.show(5)\n",
        "\n",
        "print(\"Ethereum Data\")\n",
        "Read_ETH.show(5)\n",
        "\n",
        "print(\"Dogecoin Data\")\n",
        "Read_DOGE.show(5)\n",
        "\n",
        "print(\"USDCoin Data\")\n",
        "Read_USD.show(5)\n",
        "\n",
        "print(\"Stellar Data\")\n",
        "Read_Stellar.show(5)"
      ],
      "metadata": {
        "colab": {
          "base_uri": "https://localhost:8080/"
        },
        "id": "e1In0WUr9gDs",
        "outputId": "bd978f01-49f9-4f97-e2d8-837c5c16b149"
      },
      "execution_count": 55,
      "outputs": [
        {
          "output_type": "stream",
          "name": "stdout",
          "text": [
            "Bitcoin Data\n",
            "+---+-------+------+-------------------+------------------+------------------+------------------+------------------+------+---------------+\n",
            "|SNo|   Name|Symbol|               Date|              High|               Low|              Open|             Close|Volume|      Marketcap|\n",
            "+---+-------+------+-------------------+------------------+------------------+------------------+------------------+------+---------------+\n",
            "|  1|Bitcoin|   BTC|2013-04-29 23:59:59|147.48800659179688|             134.0|134.44400024414062| 144.5399932861328|   0.0| 1.6037688645E9|\n",
            "|  2|Bitcoin|   BTC|2013-04-30 23:59:59|146.92999267578125| 134.0500030517578|             144.0|             139.0|   0.0|  1.542813125E9|\n",
            "|  3|Bitcoin|   BTC|2013-05-01 23:59:59|139.88999938964844|107.72000122070312|             139.0|116.98999786376953|   0.0|1.29895459375E9|\n",
            "|  4|Bitcoin|   BTC|2013-05-02 23:59:59| 125.5999984741211| 92.28189849853516|116.37999725341797|105.20999908447266|   0.0|1.16851749525E9|\n",
            "|  5|Bitcoin|   BTC|2013-05-03 23:59:59|108.12799835205078|  79.0999984741211|            106.25|             97.75|   0.0|1.08599516875E9|\n",
            "+---+-------+------+-------------------+------------------+------------------+------------------+------------------+------+---------------+\n",
            "only showing top 5 rows\n",
            "\n",
            "Ethereum Data\n",
            "+---+--------+------+-------------------+------------------+------------------+------------------+------------------+---------+---------------+\n",
            "|SNo|    Name|Symbol|               Date|              High|               Low|              Open|             Close|   Volume|      Marketcap|\n",
            "+---+--------+------+-------------------+------------------+------------------+------------------+------------------+---------+---------------+\n",
            "|  1|Ethereum|   ETH|2015-08-08 23:59:59|2.7988100051879883|0.7147250175476074| 2.793760061264038|0.7533249855041504| 674188.0|4.54868942408E7|\n",
            "|  2|Ethereum|   ETH|2015-08-09 23:59:59|0.8798099756240845| 0.629190981388092|0.7061359882354736|0.7018970251083374| 532170.0|4.23995734991E7|\n",
            "|  3|Ethereum|   ETH|2015-08-10 23:59:59|0.7298539876937866|0.6365460157394409|0.7139890193939209|0.7084479928016663| 405283.0|4.28183643945E7|\n",
            "|  4|Ethereum|   ETH|2015-08-11 23:59:59| 1.131410002708435|0.6632350087165833|0.7080870270729065|1.0678600072860718|1463100.0|6.45692884328E7|\n",
            "|  5|Ethereum|   ETH|2015-08-12 23:59:59|1.2899399995803833|0.8836079835891724| 1.058750033378601|1.2174400091171265|2150620.0|7.36450109863E7|\n",
            "+---+--------+------+-------------------+------------------+------------------+------------------+------------------+---------+---------------+\n",
            "only showing top 5 rows\n",
            "\n",
            "Dogecoin Data\n",
            "+---+--------+------+-------------------+--------------------+--------------------+--------------------+--------------------+------+---------------+\n",
            "|SNo|    Name|Symbol|               Date|                High|                 Low|                Open|               Close|Volume|      Marketcap|\n",
            "+---+--------+------+-------------------+--------------------+--------------------+--------------------+--------------------+------+---------------+\n",
            "|  1|Dogecoin|  DOGE|2013-12-16 23:59:59|8.658739970996976E-4|1.502130035078153E-4|2.993119996972382E-4|2.047309972112998...|   0.0|  1509085.15965|\n",
            "|  2|Dogecoin|  DOGE|2013-12-17 23:59:59|2.887900045607239E-4|1.155930003733374...|2.068890025839209...|2.685399958863854...|   0.0|   2169687.9813|\n",
            "|  3|Dogecoin|  DOGE|2013-12-18 23:59:59|3.616310132201761E-4|2.046080044237896...|2.673169947229326E-4|3.616310132201761E-4|   0.0|  3188943.20963|\n",
            "|  4|Dogecoin|  DOGE|2013-12-19 23:59:59|0.001519670011475...|3.283029946032911...|3.950539976358413...|0.001162489992566...|   0.0|1.11503392183E7|\n",
            "|  5|Dogecoin|  DOGE|2013-12-20 23:59:59|0.001142919994890...|6.617510225623846E-4|0.001142919994890...|7.038660114631057E-4|   0.0|  7284337.11836|\n",
            "+---+--------+------+-------------------+--------------------+--------------------+--------------------+--------------------+------+---------------+\n",
            "only showing top 5 rows\n",
            "\n",
            "USDCoin Data\n",
            "+---+--------+------+-------------------+-------+-------+-------+-------+---------+---------+\n",
            "|SNo|    Name|Symbol|               Date|   High|    Low|   Open|  Close|   Volume|Marketcap|\n",
            "+---+--------+------+-------------------+-------+-------+-------+-------+---------+---------+\n",
            "|  1|USD Coin|  USDC|2018-10-09 23:59:59|1.00833|1.00003|1.00427|1.00686| 108803.0|      0.0|\n",
            "|  2|USD Coin|  USDC|2018-10-10 23:59:59|1.01908|1.00397|1.00494|1.00962| 711783.0|      0.0|\n",
            "|  3|USD Coin|  USDC|2018-10-11 23:59:59|1.03123|1.00173|1.00994|1.00978|4177290.0|      0.0|\n",
            "|  4|USD Coin|  USDC|2018-10-12 23:59:59|1.01871|1.00114|1.00861|1.01272|1322240.0|      0.0|\n",
            "|  5|USD Coin|  USDC|2018-10-13 23:59:59|1.02029|1.00355|1.01445|1.00743| 698507.0|      0.0|\n",
            "+---+--------+------+-------------------+-------+-------+-------+-------+---------+---------+\n",
            "only showing top 5 rows\n",
            "\n",
            "Stellar Data\n",
            "+---+-------+------+-------------------+--------------------+--------------------+--------------------+--------------------+--------------+-------------+\n",
            "|SNo|   Name|Symbol|               Date|                High|                 Low|                Open|               Close|        Volume|    Marketcap|\n",
            "+---+-------+------+-------------------+--------------------+--------------------+--------------------+--------------------+--------------+-------------+\n",
            "|  1|Stellar|   XLM|2014-08-06 23:59:59|0.003402469912543893|0.002265719929710...|0.002373080002143979|0.002657030010595...|35819.80078125|966369.516387|\n",
            "|  2|Stellar|   XLM|2014-08-07 23:59:59|0.003041950054466...|  0.0024549700319767|0.002686100080609...|0.002500700065866...|      142864.0|1079147.57674|\n",
            "|  3|Stellar|   XLM|2014-08-08 23:59:59|0.003243319923058152|0.002492910018190...|0.002492999890819192|0.002881000051274...|  93707.796875|1260109.49815|\n",
            "|  4|Stellar|   XLM|2014-08-09 23:59:59|0.003710489952936...|0.002872880082577467| 0.00288371997885406|0.003480789950117469|      233579.0|1645185.47325|\n",
            "|  5|Stellar|   XLM|2014-08-10 23:59:59|0.007620169781148434|0.003363119903951...|0.003496839897707...|0.004302510060369968|      352737.0|2216011.86288|\n",
            "+---+-------+------+-------------------+--------------------+--------------------+--------------------+--------------------+--------------+-------------+\n",
            "only showing top 5 rows\n",
            "\n"
          ]
        }
      ]
    },
    {
      "cell_type": "code",
      "source": [
        "Read_BTC.createOrReplaceTempView(\"BTC\")\n",
        "Read_ETH.createOrReplaceTempView(\"ETH\")\n",
        "Read_DOGE.createOrReplaceTempView(\"DOGE\")\n",
        "Read_USD.createOrReplaceTempView(\"USD\")\n",
        "Read_Stellar.createOrReplaceTempView(\"Stellar\")"
      ],
      "metadata": {
        "id": "SAvJR0leBXTa"
      },
      "execution_count": 62,
      "outputs": []
    },
    {
      "cell_type": "code",
      "source": [
        "sql_query = \"\"\"\n",
        "SELECT 'Bitcoin' AS Coin, AVG(Close) AS Harga_Penutupan_Bulanan FROM BTC\n",
        "UNION ALL\n",
        "SELECT 'Ethereum' AS Coin, AVG(Close) AS Harga_Penutupan_Bulanan FROM ETH\n",
        "UNION ALL\n",
        "SELECT 'Dogecoin' AS Coin, AVG(Close) AS Harga_Penutupan_Bulanan FROM DOGE\n",
        "UNION ALL\n",
        "SELECT 'USDCoin' AS Coin, AVG(Close) AS Harga_Penutupan_Bulanan FROM USD\n",
        "UNION ALL\n",
        "SELECT 'Stellar' AS Coin, AVG(Close) AS Harga_Penutupan_Bulanan FROM Stellar\n",
        "\"\"\"\n",
        "\n",
        "Average = spark.sql(sql_query)\n",
        "Average.show(truncate=False)"
      ],
      "metadata": {
        "colab": {
          "base_uri": "https://localhost:8080/"
        },
        "id": "slXFEAFtBB3L",
        "outputId": "c55ad77a-db71-4648-dae0-330a95489314"
      },
      "execution_count": 70,
      "outputs": [
        {
          "output_type": "stream",
          "name": "stdout",
          "text": [
            "+--------+-----------------------+\n",
            "|Coin    |Harga_Penutupan_Bulanan|\n",
            "+--------+-----------------------+\n",
            "|Bitcoin |6711.290443071496      |\n",
            "|Ethereum|383.9106913193636      |\n",
            "|Dogecoin|0.013762639322080631   |\n",
            "|USDCoin |1.0037913488368773     |\n",
            "|Stellar |0.10150907766757886    |\n",
            "+--------+-----------------------+\n",
            "\n"
          ]
        }
      ]
    }
  ]
}