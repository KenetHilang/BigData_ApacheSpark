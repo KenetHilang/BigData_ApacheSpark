{
  "nbformat": 4,
  "nbformat_minor": 0,
  "metadata": {
    "colab": {
      "provenance": [],
      "authorship_tag": "ABX9TyMS12hP5qo1hGMOmofT1foL"
    },
    "kernelspec": {
      "name": "python3",
      "display_name": "Python 3"
    },
    "language_info": {
      "name": "python"
    }
  },
  "cells": [
    {
      "cell_type": "markdown",
      "source": [
        "# **Studi Kasus Apache Spark**"
      ],
      "metadata": {
        "id": "VDhj7X4qJCie"
      }
    },
    {
      "cell_type": "markdown",
      "source": [
        "| Nama   | NRP |\n",
        "| -------- | ------- |\n",
        "| Nathan Kho Pancras  | 5027231002    |\n",
        "| Michael Kenneth Salim | 5027231002     |"
      ],
      "metadata": {
        "id": "_iX-f282JPBj"
      }
    },
    {
      "cell_type": "markdown",
      "source": [
        "## **Import Library dan Download Dataset**"
      ],
      "metadata": {
        "id": "CaMFSElNJMnj"
      }
    },
    {
      "cell_type": "code",
      "execution_count": 50,
      "metadata": {
        "colab": {
          "base_uri": "https://localhost:8080/"
        },
        "id": "a-aXsorkzymT",
        "outputId": "1d821b73-caa5-4b86-e05c-b363474a05fa"
      },
      "outputs": [
        {
          "output_type": "stream",
          "name": "stdout",
          "text": [
            "Path to dataset files: /kaggle/input/cryptocurrencypricehistory\n"
          ]
        }
      ],
      "source": [
        "import kagglehub\n",
        "import os\n",
        "from pyspark.sql import SparkSession\n",
        "\n",
        "path = kagglehub.dataset_download(\"sudalairajkumar/cryptocurrencypricehistory\")\n",
        "\n",
        "print(\"Path to dataset files:\", path)"
      ]
    },
    {
      "cell_type": "markdown",
      "source": [
        "## **Menginisiasi Spark Session**"
      ],
      "metadata": {
        "id": "jtekiFe2JUCz"
      }
    },
    {
      "cell_type": "code",
      "source": [
        "spark = SparkSession.builder.getOrCreate()"
      ],
      "metadata": {
        "id": "4GSSfEv33T77"
      },
      "execution_count": 51,
      "outputs": []
    },
    {
      "cell_type": "code",
      "source": [
        "spark"
      ],
      "metadata": {
        "id": "66vByuAv34Q1",
        "outputId": "74f639e5-a022-42c6-b6a0-be57a93df450",
        "colab": {
          "base_uri": "https://localhost:8080/",
          "height": 219
        }
      },
      "execution_count": 52,
      "outputs": [
        {
          "output_type": "execute_result",
          "data": {
            "text/plain": [
              "<pyspark.sql.session.SparkSession at 0x7fae80a3fed0>"
            ],
            "text/html": [
              "\n",
              "            <div>\n",
              "                <p><b>SparkSession - in-memory</b></p>\n",
              "                \n",
              "        <div>\n",
              "            <p><b>SparkContext</b></p>\n",
              "\n",
              "            <p><a href=\"http://736f9e006bbe:4040\">Spark UI</a></p>\n",
              "\n",
              "            <dl>\n",
              "              <dt>Version</dt>\n",
              "                <dd><code>v3.5.5</code></dd>\n",
              "              <dt>Master</dt>\n",
              "                <dd><code>local[*]</code></dd>\n",
              "              <dt>AppName</dt>\n",
              "                <dd><code>pyspark-shell</code></dd>\n",
              "            </dl>\n",
              "        </div>\n",
              "        \n",
              "            </div>\n",
              "        "
            ]
          },
          "metadata": {},
          "execution_count": 52
        }
      ]
    },
    {
      "cell_type": "markdown",
      "source": [
        "## **Pre-Processing Data**"
      ],
      "metadata": {
        "id": "9o51znrJI6yF"
      }
    },
    {
      "cell_type": "markdown",
      "source": [
        "### Membaca Data"
      ],
      "metadata": {
        "id": "PnbUlzbNJigq"
      }
    },
    {
      "cell_type": "code",
      "source": [
        "Coins = [\"BTC\", \"ETH\", \"DOGE\", \"USD\", \"Stellar\"]\n",
        "\n",
        "Read_BTC = spark.read.csv(f\"{path}/coin_Bitcoin.csv\", header=True, inferSchema=True)\n",
        "Read_ETH = spark.read.csv(f\"{path}/coin_Ethereum.csv\", header=True, inferSchema=True)\n",
        "Read_DOGE = spark.read.csv(f\"{path}/coin_Dogecoin.csv\", header=True, inferSchema=True)\n",
        "Read_USD = spark.read.csv(f\"{path}/coin_USDCoin.csv\", header=True, inferSchema=True)\n",
        "Read_Stellar = spark.read.csv(f\"{path}/coin_Stellar.csv\", header=True, inferSchema=True)\n",
        "\n",
        "print(\"Data has been successfully read\")"
      ],
      "metadata": {
        "colab": {
          "base_uri": "https://localhost:8080/"
        },
        "id": "3p7RLjQv5PfC",
        "outputId": "b9aaf061-fb0d-4732-f69d-f92b1585afaf"
      },
      "execution_count": 54,
      "outputs": [
        {
          "output_type": "stream",
          "name": "stdout",
          "text": [
            "Data has been successfully read\n"
          ]
        }
      ]
    },
    {
      "cell_type": "markdown",
      "source": [
        "### Memastikan Kolom Date Bertipe Tanggal dan Data Diurutkan Secara Kronologis"
      ],
      "metadata": {
        "id": "_-VDzcLHIy3O"
      }
    },
    {
      "cell_type": "code",
      "source": [
        "print(\"Bitcoin Data\")\n",
        "Read_BTC.show(5)\n",
        "\n",
        "print(\"Ethereum Data\")\n",
        "Read_ETH.show(5)\n",
        "\n",
        "print(\"Dogecoin Data\")\n",
        "Read_DOGE.show(5)\n",
        "\n",
        "print(\"USDCoin Data\")\n",
        "Read_USD.show(5)\n",
        "\n",
        "print(\"Stellar Data\")\n",
        "Read_Stellar.show(5)"
      ],
      "metadata": {
        "colab": {
          "base_uri": "https://localhost:8080/"
        },
        "id": "e1In0WUr9gDs",
        "outputId": "bd978f01-49f9-4f97-e2d8-837c5c16b149"
      },
      "execution_count": 55,
      "outputs": [
        {
          "output_type": "stream",
          "name": "stdout",
          "text": [
            "Bitcoin Data\n",
            "+---+-------+------+-------------------+------------------+------------------+------------------+------------------+------+---------------+\n",
            "|SNo|   Name|Symbol|               Date|              High|               Low|              Open|             Close|Volume|      Marketcap|\n",
            "+---+-------+------+-------------------+------------------+------------------+------------------+------------------+------+---------------+\n",
            "|  1|Bitcoin|   BTC|2013-04-29 23:59:59|147.48800659179688|             134.0|134.44400024414062| 144.5399932861328|   0.0| 1.6037688645E9|\n",
            "|  2|Bitcoin|   BTC|2013-04-30 23:59:59|146.92999267578125| 134.0500030517578|             144.0|             139.0|   0.0|  1.542813125E9|\n",
            "|  3|Bitcoin|   BTC|2013-05-01 23:59:59|139.88999938964844|107.72000122070312|             139.0|116.98999786376953|   0.0|1.29895459375E9|\n",
            "|  4|Bitcoin|   BTC|2013-05-02 23:59:59| 125.5999984741211| 92.28189849853516|116.37999725341797|105.20999908447266|   0.0|1.16851749525E9|\n",
            "|  5|Bitcoin|   BTC|2013-05-03 23:59:59|108.12799835205078|  79.0999984741211|            106.25|             97.75|   0.0|1.08599516875E9|\n",
            "+---+-------+------+-------------------+------------------+------------------+------------------+------------------+------+---------------+\n",
            "only showing top 5 rows\n",
            "\n",
            "Ethereum Data\n",
            "+---+--------+------+-------------------+------------------+------------------+------------------+------------------+---------+---------------+\n",
            "|SNo|    Name|Symbol|               Date|              High|               Low|              Open|             Close|   Volume|      Marketcap|\n",
            "+---+--------+------+-------------------+------------------+------------------+------------------+------------------+---------+---------------+\n",
            "|  1|Ethereum|   ETH|2015-08-08 23:59:59|2.7988100051879883|0.7147250175476074| 2.793760061264038|0.7533249855041504| 674188.0|4.54868942408E7|\n",
            "|  2|Ethereum|   ETH|2015-08-09 23:59:59|0.8798099756240845| 0.629190981388092|0.7061359882354736|0.7018970251083374| 532170.0|4.23995734991E7|\n",
            "|  3|Ethereum|   ETH|2015-08-10 23:59:59|0.7298539876937866|0.6365460157394409|0.7139890193939209|0.7084479928016663| 405283.0|4.28183643945E7|\n",
            "|  4|Ethereum|   ETH|2015-08-11 23:59:59| 1.131410002708435|0.6632350087165833|0.7080870270729065|1.0678600072860718|1463100.0|6.45692884328E7|\n",
            "|  5|Ethereum|   ETH|2015-08-12 23:59:59|1.2899399995803833|0.8836079835891724| 1.058750033378601|1.2174400091171265|2150620.0|7.36450109863E7|\n",
            "+---+--------+------+-------------------+------------------+------------------+------------------+------------------+---------+---------------+\n",
            "only showing top 5 rows\n",
            "\n",
            "Dogecoin Data\n",
            "+---+--------+------+-------------------+--------------------+--------------------+--------------------+--------------------+------+---------------+\n",
            "|SNo|    Name|Symbol|               Date|                High|                 Low|                Open|               Close|Volume|      Marketcap|\n",
            "+---+--------+------+-------------------+--------------------+--------------------+--------------------+--------------------+------+---------------+\n",
            "|  1|Dogecoin|  DOGE|2013-12-16 23:59:59|8.658739970996976E-4|1.502130035078153E-4|2.993119996972382E-4|2.047309972112998...|   0.0|  1509085.15965|\n",
            "|  2|Dogecoin|  DOGE|2013-12-17 23:59:59|2.887900045607239E-4|1.155930003733374...|2.068890025839209...|2.685399958863854...|   0.0|   2169687.9813|\n",
            "|  3|Dogecoin|  DOGE|2013-12-18 23:59:59|3.616310132201761E-4|2.046080044237896...|2.673169947229326E-4|3.616310132201761E-4|   0.0|  3188943.20963|\n",
            "|  4|Dogecoin|  DOGE|2013-12-19 23:59:59|0.001519670011475...|3.283029946032911...|3.950539976358413...|0.001162489992566...|   0.0|1.11503392183E7|\n",
            "|  5|Dogecoin|  DOGE|2013-12-20 23:59:59|0.001142919994890...|6.617510225623846E-4|0.001142919994890...|7.038660114631057E-4|   0.0|  7284337.11836|\n",
            "+---+--------+------+-------------------+--------------------+--------------------+--------------------+--------------------+------+---------------+\n",
            "only showing top 5 rows\n",
            "\n",
            "USDCoin Data\n",
            "+---+--------+------+-------------------+-------+-------+-------+-------+---------+---------+\n",
            "|SNo|    Name|Symbol|               Date|   High|    Low|   Open|  Close|   Volume|Marketcap|\n",
            "+---+--------+------+-------------------+-------+-------+-------+-------+---------+---------+\n",
            "|  1|USD Coin|  USDC|2018-10-09 23:59:59|1.00833|1.00003|1.00427|1.00686| 108803.0|      0.0|\n",
            "|  2|USD Coin|  USDC|2018-10-10 23:59:59|1.01908|1.00397|1.00494|1.00962| 711783.0|      0.0|\n",
            "|  3|USD Coin|  USDC|2018-10-11 23:59:59|1.03123|1.00173|1.00994|1.00978|4177290.0|      0.0|\n",
            "|  4|USD Coin|  USDC|2018-10-12 23:59:59|1.01871|1.00114|1.00861|1.01272|1322240.0|      0.0|\n",
            "|  5|USD Coin|  USDC|2018-10-13 23:59:59|1.02029|1.00355|1.01445|1.00743| 698507.0|      0.0|\n",
            "+---+--------+------+-------------------+-------+-------+-------+-------+---------+---------+\n",
            "only showing top 5 rows\n",
            "\n",
            "Stellar Data\n",
            "+---+-------+------+-------------------+--------------------+--------------------+--------------------+--------------------+--------------+-------------+\n",
            "|SNo|   Name|Symbol|               Date|                High|                 Low|                Open|               Close|        Volume|    Marketcap|\n",
            "+---+-------+------+-------------------+--------------------+--------------------+--------------------+--------------------+--------------+-------------+\n",
            "|  1|Stellar|   XLM|2014-08-06 23:59:59|0.003402469912543893|0.002265719929710...|0.002373080002143979|0.002657030010595...|35819.80078125|966369.516387|\n",
            "|  2|Stellar|   XLM|2014-08-07 23:59:59|0.003041950054466...|  0.0024549700319767|0.002686100080609...|0.002500700065866...|      142864.0|1079147.57674|\n",
            "|  3|Stellar|   XLM|2014-08-08 23:59:59|0.003243319923058152|0.002492910018190...|0.002492999890819192|0.002881000051274...|  93707.796875|1260109.49815|\n",
            "|  4|Stellar|   XLM|2014-08-09 23:59:59|0.003710489952936...|0.002872880082577467| 0.00288371997885406|0.003480789950117469|      233579.0|1645185.47325|\n",
            "|  5|Stellar|   XLM|2014-08-10 23:59:59|0.007620169781148434|0.003363119903951...|0.003496839897707...|0.004302510060369968|      352737.0|2216011.86288|\n",
            "+---+-------+------+-------------------+--------------------+--------------------+--------------------+--------------------+--------------+-------------+\n",
            "only showing top 5 rows\n",
            "\n"
          ]
        }
      ]
    },
    {
      "cell_type": "markdown",
      "source": [
        "## **Analisis Tren Harga**"
      ],
      "metadata": {
        "id": "nISKh3mYJ84V"
      }
    },
    {
      "cell_type": "markdown",
      "source": [
        "### Memasukkan Data ke dalam Database"
      ],
      "metadata": {
        "id": "YtH4J1uTIogU"
      }
    },
    {
      "cell_type": "code",
      "source": [
        "Read_BTC.createOrReplaceTempView(\"BTC\")\n",
        "Read_ETH.createOrReplaceTempView(\"ETH\")\n",
        "Read_DOGE.createOrReplaceTempView(\"DOGE\")\n",
        "Read_USD.createOrReplaceTempView(\"USD\")\n",
        "Read_Stellar.createOrReplaceTempView(\"Stellar\")"
      ],
      "metadata": {
        "id": "SAvJR0leBXTa"
      },
      "execution_count": 62,
      "outputs": []
    },
    {
      "cell_type": "markdown",
      "source": [
        "### Hitung rata-rata harga penutupan (Close) bulanan untuk setiap kripto."
      ],
      "metadata": {
        "id": "29cau7d6Jnbs"
      }
    },
    {
      "cell_type": "code",
      "source": [
        "BTC_monthly_query = \"\"\"\n",
        "SELECT\n",
        "    'Bitcoin' AS Coin,\n",
        "    SUBSTRING(Date, 1, 7) AS Month,\n",
        "    AVG(Close) AS Avg_Close\n",
        "FROM BTC\n",
        "GROUP BY SUBSTRING(Date, 1, 7)\n",
        "ORDER BY Month\n",
        "\"\"\"\n",
        "BTC_monthly = spark.sql(BTC_monthly_query)\n",
        "print(\"Bitcoin Monthly Averages:\")\n",
        "BTC_monthly.show(5)\n",
        "\n",
        "ETH_monthly_query = \"\"\"\n",
        "SELECT\n",
        "    'Ethereum' AS Coin,\n",
        "    SUBSTRING(Date, 1, 7) AS Month,\n",
        "    AVG(Close) AS Avg_Close\n",
        "FROM ETH\n",
        "GROUP BY SUBSTRING(Date, 1, 7)\n",
        "ORDER BY Month\n",
        "\"\"\"\n",
        "ETH_monthly = spark.sql(ETH_monthly_query)\n",
        "print(\"Ethereum Monthly Averages:\")\n",
        "ETH_monthly.show(5)\n",
        "\n",
        "doge_monthly_query = \"\"\"\n",
        "SELECT\n",
        "    'Dogecoin' AS Coin,\n",
        "    SUBSTRING(Date, 1, 7) AS Month,\n",
        "    AVG(Close) AS Avg_Close\n",
        "FROM DOGE\n",
        "GROUP BY SUBSTRING(Date, 1, 7)\n",
        "ORDER BY Month\n",
        "\"\"\"\n",
        "doge_monthly = spark.sql(doge_monthly_query)\n",
        "print(\"Dogecoin Monthly Averages:\")\n",
        "doge_monthly.show(5)\n",
        "\n",
        "USD_monthly_query = \"\"\"\n",
        "SELECT\n",
        "    'USDCoin' AS Coin,\n",
        "    SUBSTRING(Date, 1, 7) AS Month,\n",
        "    AVG(Close) AS Avg_Close\n",
        "FROM USD\n",
        "GROUP BY SUBSTRING(Date, 1, 7)\n",
        "ORDER BY Month\n",
        "\"\"\"\n",
        "USD_monthly = spark.sql(USD_monthly_query)\n",
        "print(\"USDCoin Monthly Averages:\")\n",
        "USD_monthly.show(5)\n",
        "\n",
        "Stellar_monthly_query = \"\"\"\n",
        "SELECT\n",
        "    'Stellar' AS Coin,\n",
        "    SUBSTRING(Date, 1, 7) AS Month,\n",
        "    AVG(Close) AS Avg_Close\n",
        "FROM Stellar\n",
        "GROUP BY SUBSTRING(Date, 1, 7)\n",
        "ORDER BY Month\n",
        "\"\"\"\n",
        "Stellar_monthly = spark.sql(Stellar_monthly_query)\n",
        "print(\"Stellar Monthly Averages:\")\n",
        "Stellar_monthly.show()"
      ],
      "metadata": {
        "colab": {
          "base_uri": "https://localhost:8080/"
        },
        "id": "slXFEAFtBB3L",
        "outputId": "407cb171-9ed7-40d3-c165-d8aa10e51878"
      },
      "execution_count": 80,
      "outputs": [
        {
          "output_type": "stream",
          "name": "stdout",
          "text": [
            "Bitcoin Monthly Averages:\n",
            "+-------+-------+------------------+\n",
            "|   Coin|  Month|         Avg_Close|\n",
            "+-------+-------+------------------+\n",
            "|Bitcoin|2013-04| 141.7699966430664|\n",
            "|Bitcoin|2013-05|119.99274124637726|\n",
            "|Bitcoin|2013-06|107.76140670776367|\n",
            "|Bitcoin|2013-07|   90.512206539031|\n",
            "|Bitcoin|2013-08|113.90548435334236|\n",
            "+-------+-------+------------------+\n",
            "only showing top 5 rows\n",
            "\n",
            "Ethereum Monthly Averages:\n",
            "+--------+-------+------------------+\n",
            "|    Coin|  Month|         Avg_Close|\n",
            "+--------+-------+------------------+\n",
            "|Ethereum|2015-08| 1.259648747742176|\n",
            "|Ethereum|2015-09| 0.988966029882431|\n",
            "|Ethereum|2015-10|0.6611039330882411|\n",
            "|Ethereum|2015-11|0.9313520669937134|\n",
            "|Ethereum|2015-12| 0.886259263561618|\n",
            "+--------+-------+------------------+\n",
            "only showing top 5 rows\n",
            "\n",
            "Dogecoin Monthly Averages:\n",
            "+--------+-------+--------------------+\n",
            "|    Coin|  Month|           Avg_Close|\n",
            "+--------+-------+--------------------+\n",
            "|Dogecoin|2013-12|5.005079392503831E-4|\n",
            "|Dogecoin|2014-01|8.277584448449254E-4|\n",
            "|Dogecoin|2014-02|0.001317208454046...|\n",
            "|Dogecoin|2014-03|7.907848067266206E-4|\n",
            "|Dogecoin|2014-04|5.086171654208253E-4|\n",
            "+--------+-------+--------------------+\n",
            "only showing top 5 rows\n",
            "\n",
            "USDCoin Monthly Averages:\n",
            "+-------+-------+------------------+\n",
            "|   Coin|  Month|         Avg_Close|\n",
            "+-------+-------+------------------+\n",
            "|USDCoin|2018-10|1.0105476521739132|\n",
            "|USDCoin|2018-11|1.0125907151823337|\n",
            "|USDCoin|2018-12|1.0145268469305808|\n",
            "|USDCoin|2019-01|1.0120390603780642|\n",
            "|USDCoin|2019-02|1.0134725103628572|\n",
            "+-------+-------+------------------+\n",
            "only showing top 5 rows\n",
            "\n",
            "Stellar Monthly Averages:\n",
            "+-------+-------+--------------------+\n",
            "|   Coin|  Month|           Avg_Close|\n",
            "+-------+-------+--------------------+\n",
            "|Stellar|2014-08|0.002540925768418...|\n",
            "|Stellar|2014-09|0.002909000016128...|\n",
            "|Stellar|2014-10|0.002171554816736...|\n",
            "|Stellar|2014-11|0.001868230678761...|\n",
            "|Stellar|2014-12|0.004035920317795488|\n",
            "|Stellar|2015-01|0.004865157417953014|\n",
            "|Stellar|2015-02|0.003461841793198...|\n",
            "|Stellar|2015-03|0.002949970000753...|\n",
            "|Stellar|2015-04|0.002694938331842...|\n",
            "|Stellar|2015-05|0.002921270341762612|\n",
            "|Stellar|2015-06|0.003365656679185...|\n",
            "|Stellar|2015-07|0.003045869029818...|\n",
            "|Stellar|2015-08|0.002277762914497045|\n",
            "|Stellar|2015-09|0.002218637654247383|\n",
            "|Stellar|2015-10|0.002015595166613498|\n",
            "|Stellar|2015-11| 0.00196008300408721|\n",
            "|Stellar|2015-12|0.001864841609682...|\n",
            "|Stellar|2016-01|0.001777133551396189|\n",
            "|Stellar|2016-02|0.002002401377780941|\n",
            "|Stellar|2016-03|0.002100278732306...|\n",
            "+-------+-------+--------------------+\n",
            "only showing top 20 rows\n",
            "\n"
          ]
        }
      ]
    },
    {
      "cell_type": "markdown",
      "source": [
        "### Identifikasi Bulan dengan Rata-Rata Harga Penutupan Tertinggi dan Terendah untuk Setiap Kripto"
      ],
      "metadata": {
        "id": "hNDUkYDjKMcc"
      }
    },
    {
      "cell_type": "code",
      "source": [
        "BTC_highest_lowest_query = \"\"\"\n",
        "SELECT\n",
        "    'Bitcoin' AS Coin,\n",
        "    MAX(Avg_Close) AS Highest_Avg_Close,\n",
        "    MIN(Avg_Close) AS Lowest_Avg_Close,\n",
        "    (SELECT Month FROM (\n",
        "        SELECT Month, Avg_Close,\n",
        "        RANK() OVER (ORDER BY Avg_Close DESC) as rank\n",
        "        FROM (\n",
        "            SELECT SUBSTRING(Date, 1, 7) AS Month, AVG(Close) AS Avg_Close\n",
        "            FROM BTC\n",
        "            GROUP BY SUBSTRING(Date, 1, 7)\n",
        "        )\n",
        "    ) WHERE rank = 1) AS Highest_Month,\n",
        "    (SELECT Month FROM (\n",
        "        SELECT Month, Avg_Close,\n",
        "        RANK() OVER (ORDER BY Avg_Close ASC) as rank\n",
        "        FROM (\n",
        "            SELECT SUBSTRING(Date, 1, 7) AS Month, AVG(Close) AS Avg_Close\n",
        "            FROM BTC\n",
        "            GROUP BY SUBSTRING(Date, 1, 7)\n",
        "        )\n",
        "    ) WHERE rank = 1) AS Lowest_Month\n",
        "FROM (\n",
        "    SELECT SUBSTRING(Date, 1, 7) AS Month, AVG(Close) AS Avg_Close\n",
        "    FROM BTC\n",
        "    GROUP BY SUBSTRING(Date, 1, 7)\n",
        ")\n",
        "\"\"\"\n",
        "BTC_highest_lowest = spark.sql(BTC_highest_lowest_query)\n",
        "print(\"Bitcoin Highest and Lowest Months:\")\n",
        "BTC_highest_lowest.show(truncate=False)\n",
        "\n",
        "ETH_highest_lowest_query = \"\"\"\n",
        "SELECT\n",
        "    'Ethereum' AS Coin,\n",
        "    MAX(Avg_Close) AS Highest_Avg_Close,\n",
        "    MIN(Avg_Close) AS Lowest_Avg_Close,\n",
        "    (SELECT Month FROM (\n",
        "        SELECT Month, Avg_Close,\n",
        "        RANK() OVER (ORDER BY Avg_Close DESC) as rank\n",
        "        FROM (\n",
        "            SELECT SUBSTRING(Date, 1, 7) AS Month, AVG(Close) AS Avg_Close\n",
        "            FROM ETH\n",
        "            GROUP BY SUBSTRING(Date, 1, 7)\n",
        "        )\n",
        "    ) WHERE rank = 1) AS Highest_Month,\n",
        "    (SELECT Month FROM (\n",
        "        SELECT Month, Avg_Close,\n",
        "        RANK() OVER (ORDER BY Avg_Close ASC) as rank\n",
        "        FROM (\n",
        "            SELECT SUBSTRING(Date, 1, 7) AS Month, AVG(Close) AS Avg_Close\n",
        "            FROM ETH\n",
        "            GROUP BY SUBSTRING(Date, 1, 7)\n",
        "        )\n",
        "    ) WHERE rank = 1) AS Lowest_Month\n",
        "FROM (\n",
        "    SELECT SUBSTRING(Date, 1, 7) AS Month, AVG(Close) AS Avg_Close\n",
        "    FROM ETH\n",
        "    GROUP BY SUBSTRING(Date, 1, 7)\n",
        ")\n",
        "\"\"\"\n",
        "ETH_highest_lowest = spark.sql(ETH_highest_lowest_query)\n",
        "print(\"Ethereum Highest and Lowest Months:\")\n",
        "ETH_highest_lowest.show(truncate=False)\n",
        "\n",
        "DOGE_highest_lowest_query = \"\"\"\n",
        "SELECT\n",
        "    'Dogecoin' AS Coin,\n",
        "    MAX(Avg_Close) AS Highest_Avg_Close,\n",
        "    MIN(Avg_Close) AS Lowest_Avg_Close,\n",
        "    (SELECT Month FROM (\n",
        "        SELECT Month, Avg_Close,\n",
        "        RANK() OVER (ORDER BY Avg_Close DESC) as rank\n",
        "        FROM (\n",
        "            SELECT SUBSTRING(Date, 1, 7) AS Month, AVG(Close) AS Avg_Close\n",
        "            FROM DOGE\n",
        "            GROUP BY SUBSTRING(Date, 1, 7)\n",
        "        )\n",
        "    ) WHERE rank = 1) AS Highest_Month,\n",
        "    (SELECT Month FROM (\n",
        "        SELECT Month, Avg_Close,\n",
        "        RANK() OVER (ORDER BY Avg_Close ASC) as rank\n",
        "        FROM (\n",
        "            SELECT SUBSTRING(Date, 1, 7) AS Month, AVG(Close) AS Avg_Close\n",
        "            FROM DOGE\n",
        "            GROUP BY SUBSTRING(Date, 1, 7)\n",
        "        )\n",
        "    ) WHERE rank = 1) AS Lowest_Month\n",
        "FROM (\n",
        "    SELECT SUBSTRING(Date, 1, 7) AS Month, AVG(Close) AS Avg_Close\n",
        "    FROM DOGE\n",
        "    GROUP BY SUBSTRING(Date, 1, 7)\n",
        ")\n",
        "\"\"\"\n",
        "DOGE_highest_lowest = spark.sql(DOGE_highest_lowest_query)\n",
        "print(\"Dogecoin Highest and Lowest Months:\")\n",
        "DOGE_highest_lowest.show(truncate=False)\n",
        "\n",
        "USD_highest_lowest_query = \"\"\"\n",
        "SELECT\n",
        "    'USDCoin' AS Coin,\n",
        "    MAX(Avg_Close) AS Highest_Avg_Close,\n",
        "    MIN(Avg_Close) AS Lowest_Avg_Close,\n",
        "    (SELECT Month FROM (\n",
        "        SELECT Month, Avg_Close,\n",
        "        RANK() OVER (ORDER BY Avg_Close DESC) as rank\n",
        "        FROM (\n",
        "            SELECT SUBSTRING(Date, 1, 7) AS Month, AVG(Close) AS Avg_Close\n",
        "            FROM USD\n",
        "            GROUP BY SUBSTRING(Date, 1, 7)\n",
        "        )\n",
        "    ) WHERE rank = 1) AS Highest_Month,\n",
        "    (SELECT Month FROM (\n",
        "        SELECT Month, Avg_Close,\n",
        "        RANK() OVER (ORDER BY Avg_Close ASC) as rank\n",
        "        FROM (\n",
        "            SELECT SUBSTRING(Date, 1, 7) AS Month, AVG(Close) AS Avg_Close\n",
        "            FROM USD\n",
        "            GROUP BY SUBSTRING(Date, 1, 7)\n",
        "        )\n",
        "    ) WHERE rank = 1) AS Lowest_Month\n",
        "FROM (\n",
        "    SELECT SUBSTRING(Date, 1, 7) AS Month, AVG(Close) AS Avg_Close\n",
        "    FROM USD\n",
        "    GROUP BY SUBSTRING(Date, 1, 7)\n",
        ")\n",
        "\"\"\"\n",
        "USD_highest_lowest = spark.sql(USD_highest_lowest_query)\n",
        "print(\"USDCoin Highest and Lowest Months:\")\n",
        "USD_highest_lowest.show(truncate=False)\n"
      ],
      "metadata": {
        "colab": {
          "base_uri": "https://localhost:8080/"
        },
        "id": "UtIlEmgnGYG7",
        "outputId": "aafc9b5e-aef8-4338-d2eb-5bd1dfc6d38f"
      },
      "execution_count": 83,
      "outputs": [
        {
          "output_type": "stream",
          "name": "stdout",
          "text": [
            "Bitcoin Highest and Lowest Months:\n",
            "+-------+-----------------+----------------+-------------+------------+\n",
            "|Coin   |Highest_Avg_Close|Lowest_Avg_Close|Highest_Month|Lowest_Month|\n",
            "+-------+-----------------+----------------+-------------+------------+\n",
            "|Bitcoin|57206.72022674067|90.512206539031 |2021-04      |2013-07     |\n",
            "+-------+-----------------+----------------+-------------+------------+\n",
            "\n",
            "Ethereum Highest and Lowest Months:\n",
            "+--------+------------------+------------------+-------------+------------+\n",
            "|Coin    |Highest_Avg_Close |Lowest_Avg_Close  |Highest_Month|Lowest_Month|\n",
            "+--------+------------------+------------------+-------------+------------+\n",
            "|Ethereum|3140.7307596877413|0.6611039330882411|2021-05      |2015-10     |\n",
            "+--------+------------------+------------------+-------------+------------+\n",
            "\n",
            "Dogecoin Highest and Lowest Months:\n",
            "+--------+-------------------+---------------------+-------------+------------+\n",
            "|Coin    |Highest_Avg_Close  |Lowest_Avg_Close     |Highest_Month|Lowest_Month|\n",
            "+--------+-------------------+---------------------+-------------+------------+\n",
            "|Dogecoin|0.43980041612903226|1.1184921919872673E-4|2021-05      |2015-04     |\n",
            "+--------+-------------------+---------------------+-------------+------------+\n",
            "\n",
            "USDCoin Highest and Lowest Months:\n",
            "+-------+------------------+------------------+-------------+------------+\n",
            "|Coin   |Highest_Avg_Close |Lowest_Avg_Close  |Highest_Month|Lowest_Month|\n",
            "+-------+------------------+------------------+-------------+------------+\n",
            "|USDCoin|1.0145268469305808|0.9987704054707741|2018-12      |2020-03     |\n",
            "+-------+------------------+------------------+-------------+------------+\n",
            "\n"
          ]
        }
      ]
    },
    {
      "cell_type": "markdown",
      "source": [
        "## **Analisis Volatilitas**"
      ],
      "metadata": {
        "id": "ljEqKbeOKYm6"
      }
    },
    {
      "cell_type": "code",
      "source": [
        "BTC_volatility_query = \"\"\"\n",
        "SELECT\n",
        "    Date,\n",
        "    High - Low AS Daily_Volatility\n",
        "FROM BTC\n",
        "ORDER BY Date\n",
        "\"\"\"\n",
        "BTC_volatility = spark.sql(BTC_volatility_query)\n",
        "print(\"Sample of Bitcoin Daily Volatility:\")\n",
        "BTC_volatility.show(5)"
      ],
      "metadata": {
        "colab": {
          "base_uri": "https://localhost:8080/"
        },
        "id": "DpQ5eXFKIWgS",
        "outputId": "43e2ccfe-1582-46fa-bac9-9ca411df8540"
      },
      "execution_count": 86,
      "outputs": [
        {
          "output_type": "stream",
          "name": "stdout",
          "text": [
            "Sample of Bitcoin Daily Volatility:\n",
            "+-------------------+------------------+\n",
            "|               Date|  Daily_Volatility|\n",
            "+-------------------+------------------+\n",
            "|2013-04-29 23:59:59|13.488006591796875|\n",
            "|2013-04-30 23:59:59|12.879989624023438|\n",
            "|2013-05-01 23:59:59| 32.16999816894531|\n",
            "|2013-05-02 23:59:59| 33.31809997558594|\n",
            "|2013-05-03 23:59:59|29.027999877929688|\n",
            "+-------------------+------------------+\n",
            "only showing top 5 rows\n",
            "\n"
          ]
        }
      ]
    }
  ]
}